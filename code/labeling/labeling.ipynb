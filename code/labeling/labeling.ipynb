{
 "cells": [
  {
   "cell_type": "markdown",
   "metadata": {},
   "source": [
    "This is a script to label data using speific label files obtained from the tool label-studio. It is neccessary to specify the path to the label files and the path to the data files. \n",
    "The script will save the labels in a csv file."
   ]
  },
  {
   "cell_type": "code",
   "execution_count": 1,
   "metadata": {},
   "outputs": [],
   "source": [
    "import sys\n",
    "import os \n",
    "import numpy as np\n",
    "import pandas as pd\n",
    "import json \n",
    "from pathlib import Path\n",
    "\n",
    "# Add the parent directory to sys.path\n",
    "parent_dir = Path().resolve().parent\n",
    "sys.path.append(str(parent_dir))\n",
    "\n",
    "from constants import LABEL_NAMES\n",
    "INVERTED_LABELS = {value: key for key, value in LABEL_NAMES.items()}"
   ]
  },
  {
   "cell_type": "code",
   "execution_count": 2,
   "metadata": {},
   "outputs": [],
   "source": [
    "def extract_files_from_labels(labels_data:dict)->dict:\n",
    "    \"\"\"This function will extract the available files and index from the labels data\"\"\"\n",
    "    files = {}\n",
    "    for idx, data in enumerate(labels_data):\n",
    "        available_file = data[\"data\"][\"csv_url\"] #'/data/upload/6/52fb5fa0-Breaststroke1718901708253.csv'\n",
    "        \n",
    "        # Extract the file name\n",
    "        file_name = available_file.split(\"/\")[-1].split(\"-\")[-1]\n",
    "                    \n",
    "        files[file_name] = idx\n",
    "    return files\n",
    "        "
   ]
  },
  {
   "cell_type": "code",
   "execution_count": null,
   "metadata": {},
   "outputs": [],
   "source": [
    "def write_labels(csv_file:str, label_data):\n",
    "    \"\"\"This function will write the labels into the csv\n",
    "    Args:\n",
    "        csv_file (str): The csv file to be labeled\n",
    "        label_data (dict): The label data from the annotation\n",
    "    \"\"\"\n",
    "    print(f\"\\n============== Labeling file {os.path.basename(csv_file)} ==============\")\n",
    "    df_csv = pd.read_csv(csv_file)\n",
    "        \n",
    "    # Check if df_csv has label column otherwise add it with value -1\n",
    "    if 'label' not in df_csv.columns: \n",
    "        print(\"Adding label column to the file\")\n",
    "        df_csv['label'] = 0\n",
    "    \n",
    "    for annotation in label_data['annotations']:\n",
    "        results = annotation['result']\n",
    "        for item in results:\n",
    "            start = item['value']['start']\n",
    "            end = item['value']['end']\n",
    "            label = item['value'][\"timeserieslabels\"][0]\n",
    "            decoded_label = INVERTED_LABELS[label]\n",
    "            df_csv.loc[(df_csv['timestamp'] >= start) & (df_csv['timestamp'] <= end), 'label'] = decoded_label\n",
    "            \n",
    "            print(f\"Labeling from {start} to {end} with label {decoded_label}\")\n",
    "     \n",
    "    # Save the labeled file\n",
    "    # labeled_file = csv_file.replace(\".csv\", \"_labeled.csv\")\n",
    "    df_csv.to_csv(csv_file, index=False)\n",
    "    print(f\"File saved into {os.path.dirname(csv_file)}\")\n",
    "    \n",
    "        "
   ]
  },
  {
   "cell_type": "code",
   "execution_count": null,
   "metadata": {},
   "outputs": [],
   "source": [
    "def start_labeling(main_path:str, labels_data:list, available_files:dict):\n",
    "    \"\"\"\n",
    "    This function will start looking for the csv files in the main path and will start labeling them.\n",
    "    \n",
    "    Args:\n",
    "    - main_path: str, the main path where the csv files are located.\n",
    "    - labels_data: dict, the labels data that contains the annotations.\n",
    "    - available_files: dict, the available files that are in the labels data. {file_name: index}\n",
    "    \"\"\"\n",
    "    for root, _, files in os.walk(main_path):\n",
    "        # Generate the corresponding destination directory path\n",
    "        for file in files:\n",
    "            if file.endswith('.csv') and file in available_files:\n",
    "                csv_file = os.path.join(root, file)\n",
    "                write_labels(csv_file, labels_data[available_files[file]])\n"
   ]
  },
  {
   "cell_type": "code",
   "execution_count": null,
   "metadata": {},
   "outputs": [
    {
     "name": "stdout",
     "output_type": "stream",
     "text": [
      "Starting labeling ...\n",
      "\n",
      "Label file found: C:\\Users\\omare\\OneDrive\\Documentos\\TU Berlin\\Master\\Codigo\\Master\\data\\labels\\project-6-at-2024-09-12-21-01-56564302.json\n",
      "\n",
      "============== Labeling file Breaststroke_12_09_2024_13_10_50.csv ==============\n",
      "Labeling from 178355532502839.34 to 178440343194360.16 with label 2\n",
      "File saved into C:\\Users\\omare\\OneDrive\\Documentos\\TU Berlin\\Master\\Codigo\\Master\\data\\data_omar_processed\\pixel\\12_09_24\n",
      "\n",
      "============== Labeling file Breaststroke_12_09_2024_13_12_29.csv ==============\n",
      "Labeling from 178453841633433.1 to 178559210327532.34 with label 2\n",
      "File saved into C:\\Users\\omare\\OneDrive\\Documentos\\TU Berlin\\Master\\Codigo\\Master\\data\\data_omar_processed\\pixel\\12_09_24\n",
      "\n",
      "============== Labeling file Breaststroke_12_09_2024_13_15_06.csv ==============\n",
      "Labeling from 178608446942020.44 to 178711701728303.16 with label 2\n",
      "File saved into C:\\Users\\omare\\OneDrive\\Documentos\\TU Berlin\\Master\\Codigo\\Master\\data\\data_omar_processed\\pixel\\12_09_24\n",
      "\n",
      "============== Labeling file Breaststroke_12_09_2024_13_17_09.csv ==============\n",
      "Labeling from 178731272071484.72 to 178843470532144.34 with label 2\n",
      "File saved into C:\\Users\\omare\\OneDrive\\Documentos\\TU Berlin\\Master\\Codigo\\Master\\data\\data_omar_processed\\pixel\\12_09_24\n",
      "\n",
      "============== Labeling file Breaststroke_12_09_2024_13_19_23.csv ==============\n",
      "Labeling from 178865087024311 to 178974909395799.62 with label 2\n",
      "File saved into C:\\Users\\omare\\OneDrive\\Documentos\\TU Berlin\\Master\\Codigo\\Master\\data\\data_omar_processed\\pixel\\12_09_24\n",
      "\n",
      "============== Labeling file Breaststroke_12_09_2024_13_21_50.csv ==============\n",
      "Labeling from 179013123306253.3 to 179127106046280.1 with label 2\n",
      "File saved into C:\\Users\\omare\\OneDrive\\Documentos\\TU Berlin\\Master\\Codigo\\Master\\data\\data_omar_processed\\pixel\\12_09_24\n",
      "\n",
      "============== Labeling file Circle_12_09_2024_13_24_22.csv ==============\n",
      "Labeling from 179172250076814.53 to 179240296883405.1 with label 10\n",
      "File saved into C:\\Users\\omare\\OneDrive\\Documentos\\TU Berlin\\Master\\Codigo\\Master\\data\\data_omar_processed\\pixel\\12_09_24\n",
      "\n",
      "============== Labeling file Circle_12_09_2024_13_25_51.csv ==============\n",
      "Labeling from 179255148092446.75 to 179330451539148.47 with label 10\n",
      "File saved into C:\\Users\\omare\\OneDrive\\Documentos\\TU Berlin\\Master\\Codigo\\Master\\data\\data_omar_processed\\pixel\\12_09_24\n",
      "\n",
      "============== Labeling file Circle_12_09_2024_13_27_29.csv ==============\n",
      "Labeling from 179349130806696.75 to 179402789433458.78 with label 10\n",
      "File saved into C:\\Users\\omare\\OneDrive\\Documentos\\TU Berlin\\Master\\Codigo\\Master\\data\\data_omar_processed\\pixel\\12_09_24\n",
      "\n",
      "============== Labeling file Circle_12_09_2024_13_28_46.csv ==============\n",
      "Labeling from 179430178439964.28 to 179486047894179.3 with label 10\n",
      "File saved into C:\\Users\\omare\\OneDrive\\Documentos\\TU Berlin\\Master\\Codigo\\Master\\data\\data_omar_processed\\pixel\\12_09_24\n",
      "\n",
      "============== Labeling file Circle_12_09_2024_13_30_12.csv ==============\n",
      "Labeling from 179514525890660.06 to 179579371078059.9 with label 10\n",
      "File saved into C:\\Users\\omare\\OneDrive\\Documentos\\TU Berlin\\Master\\Codigo\\Master\\data\\data_omar_processed\\pixel\\12_09_24\n",
      "\n",
      "============== Labeling file Circle_12_09_2024_13_31_49.csv ==============\n",
      "Labeling from 179612569805044.7 to 179655270306299.5 with label 10\n",
      "File saved into C:\\Users\\omare\\OneDrive\\Documentos\\TU Berlin\\Master\\Codigo\\Master\\data\\data_omar_processed\\pixel\\12_09_24\n"
     ]
    }
   ],
   "source": [
    "# Path where the data to be labeled is stored\n",
    "data_path = \"data_processed\" \n",
    "labels_folder = \"labels\"\n",
    "\n",
    "print(f\"Starting labeling ...\")\n",
    "for root, _, files in os.walk(labels_folder):\n",
    "    for file in files:\n",
    "        if file.endswith('.json'):\n",
    "            label_file = os.path.join(root, file)\n",
    "            print(f\"\\nLabel file found: {label_file}\")\n",
    "            with open(label_file) as f:\n",
    "                label_data = json.load(f)\n",
    "                available_files = extract_files_from_labels(label_data)\n",
    "                start_labeling(data_path, label_data, available_files)"
   ]
  }
 ],
 "metadata": {
  "kernelspec": {
   "display_name": "Python 3",
   "language": "python",
   "name": "python3"
  },
  "language_info": {
   "codemirror_mode": {
    "name": "ipython",
    "version": 3
   },
   "file_extension": ".py",
   "mimetype": "text/x-python",
   "name": "python",
   "nbconvert_exporter": "python",
   "pygments_lexer": "ipython3",
   "version": "3.12.2"
  }
 },
 "nbformat": 4,
 "nbformat_minor": 2
}
